{
 "cells": [
  {
   "cell_type": "code",
   "execution_count": null,
   "id": "f3519a13-c84d-480b-9a6b-c1fc8829b736",
   "metadata": {},
   "outputs": [],
   "source": []
  }
 ],
 "metadata": {
  "kernelspec": {
   "display_name": "",
   "name": ""
  },
  "language_info": {
   "name": ""
  }
 },
 "nbformat": 4,
 "nbformat_minor": 5
}
